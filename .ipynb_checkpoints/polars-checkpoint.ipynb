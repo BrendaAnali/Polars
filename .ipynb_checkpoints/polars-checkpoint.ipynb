{
 "cells": [
  {
   "cell_type": "markdown",
   "id": "bd7a14c5",
   "metadata": {},
   "source": [
    "# TUTORIAL DE LA LIBRERIA POLARS\n"
   ]
  },
  {
   "cell_type": "code",
   "execution_count": null,
   "id": "4fca7333",
   "metadata": {},
   "outputs": [],
   "source": []
  },
  {
   "cell_type": "code",
   "execution_count": null,
   "id": "c731f977",
   "metadata": {},
   "outputs": [],
   "source": [
    "#\"instalacion\"\n",
    "!pip install polars\n",
    "#llamando as la libreria polars\n",
    "import polars as pl"
   ]
  },
  {
   "cell_type": "code",
   "execution_count": null,
   "id": "0a777aef",
   "metadata": {},
   "outputs": [],
   "source": [
    "import polars as pl\n",
    "import pandas as pd\n",
    "import numpy as np\n",
    "df = pl.DataFrame(\n",
    "    {\n",
    "        \"nrs\": [1, 2, 3, None, 5],\n",
    "        \"names\": [\"foo\", \"ham\", \"spam\", \"egg\", None],\n",
    "        \"random\": np.random.rand(5),\n",
    "        \"groups\": [\"A\", \"A\", \"B\", \"C\", \"B\"],\n",
    "    }\n",
    ")\n",
    "print(df)\n"
   ]
  },
  {
   "cell_type": "code",
   "execution_count": null,
   "id": "c875caef",
   "metadata": {},
   "outputs": [],
   "source": [
    "#EXPRESIONES:\n",
    "#son funciones/métodos utilizados a la hora de realizar operaciones con datos en Polars\n",
    "#(e.g., selección, creación y manipulación de columnas, aplicación de filtros, entre otros).\n",
    "df = pl.DataFrame(\n",
    "    {\n",
    "        \"nrs\": [1, 2, 3, None, 5],\n",
    "        \"names\": [\"foo\", \"ham\", \"spam\", \"egg\", None],\n",
    "        \"random\": np.random.rand(5),\n",
    "        \"groups\": [\"A\", \"A\", \"B\", \"C\", \"B\"],\n",
    "    }\n",
    ")\n",
    "print(df)"
   ]
  }
 ],
 "metadata": {
  "kernelspec": {
   "display_name": "Python 3 (ipykernel)",
   "language": "python",
   "name": "python3"
  },
  "language_info": {
   "codemirror_mode": {
    "name": "ipython",
    "version": 3
   },
   "file_extension": ".py",
   "mimetype": "text/x-python",
   "name": "python",
   "nbconvert_exporter": "python",
   "pygments_lexer": "ipython3",
   "version": "3.9.13"
  }
 },
 "nbformat": 4,
 "nbformat_minor": 5
}
