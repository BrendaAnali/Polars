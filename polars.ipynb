{
 "cells": [
  {
   "cell_type": "markdown",
   "id": "bd7a14c5",
   "metadata": {},
   "source": [
    "\n",
    "# <p style=\"color:Darkred;\">¿QUÉ ES POLARS?</p> \n",
    "\n",
    "Polar es una libreria que ha sido diseñada para trabajar con datos tabulares,puede procesar grandes volumenes de datos de forma rapida y eficiente ya que maximiza el uso de todos los cores disponibles de un ordenador.\n",
    "\n",
    "Polars esta desarrollada en Rust, lo que le otorga un rendimiento C/C++ y le permite controlar por completo las partes criticas del rendimiento en un motor de consulta,Rust en muy rapido y eficiente en cuanto a memoria: sin tiempos de ejecución ni recolector de elementos no utilizados,puede potenciar servicios críticos para el rendimiento,ejecutarse en dispositivos integrados e integrarse fácilmente con otros lenguajes, tambien utiliza Arrow arrays, en la actualidad polars dispone de APIs en Python y Rust.\n",
    "\n",
    "\n",
    "Entre los objetivos de Polars tenemos:\n",
    "\n",
    "- Tiene una API  que es consistente y predecible.\n",
    "- Maneja datos mucho mas grandes que la RAM disponible de tu pc.\n",
    "- Tiene un esquema estricto(los tipos de datos deben conocerse antes de ejecutar la consulta)\n",
    "- Utiliza todos los núcleos disponibles en su máquina.\n",
    "- Optimiza las consultas para reducir las asignaciones de trabajo/memoria innecesaria.\n",
    "\n",
    "Entre las funciones que Polars puede hacer tenemos:\n",
    "\n",
    "- Procesas datos en fragmentos.\n",
    "- Reutilice las asignaciones de memoria.\n",
    "- Reduzca las copias redundantes.\n",
    "- Atraviese la caché de memoria de manera eficiente.\n",
    "- Minimizar las contención en el paralelismo.\n",
    "\n",
    "\n",
    "![Polars](https://raw.githubusercontent.com/pola-rs/polars-static/master/logos/polars_github_logo_rect_dark_name.svg)"
   ]
  },
  {
   "cell_type": "markdown",
   "id": "8f56ef90",
   "metadata": {},
   "source": [
    "# <p style=\"color:Darkred;\">INSTALACIÓN</p> "
   ]
  },
  {
   "cell_type": "code",
   "execution_count": null,
   "id": "c731f977",
   "metadata": {},
   "outputs": [],
   "source": [
    "#\"instalacion\"\n",
    "!pip install polars\n",
    "#llamando as la libreria polars\n",
    "import polars as pl"
   ]
  },
  {
   "cell_type": "code",
   "execution_count": null,
   "id": "0a777aef",
   "metadata": {},
   "outputs": [],
   "source": [
    "import polars as pl\n",
    "import pandas as pd\n",
    "import numpy as np\n",
    "df = pl.DataFrame(\n",
    "    {\n",
    "        \"nrs\": [1, 2, 3, None, 5],\n",
    "        \"names\": [\"foo\", \"ham\", \"spam\", \"egg\", None],\n",
    "        \"random\": np.random.rand(5),\n",
    "        \"groups\": [\"A\", \"A\", \"B\", \"C\", \"B\"],\n",
    "    }\n",
    ")\n",
    "print(df)\n"
   ]
  },
  {
   "cell_type": "markdown",
   "id": "e68d4e7f",
   "metadata": {},
   "source": [
    "# <p style=\"color:Darkred;\">CONCEPTOS</p> \n",
    "\n",
    "## <p style=\"color:Darkblue;\">TIPOS DE DATOS</p>\n",
    "\n",
    "Polars se fundamenta completamente en **Arrow** tipos de datos y esta respaldada por **Arrow** matrices de memoria, permitiendo que sea eficiente el procesamiento de datos en caché y este bien respaldado para la comunicación entre procesos.La mayotia de los tipos de datos siguen la implementación exacta de Arrow, con la excepción de utfo, categorical y object.Los tipos de datos son:\n",
    "\n",
    "| GRUPO  | TIPO | <center>DETALLES<center>  |\n",
    "|:------------- |:---------------:| -------------:|\n",
    "| Numérico         | Int8       | entero con signo de 8 bits        |\n",
    "|         | Int16        |entero con signo de 16 bits         |\n",
    "|          | Int32      | entero con signo de 32 bits        |1\n",
    "|          | Int64 | entero con signo de 64bits        |\n",
    "|          |UInt8 | Entero sin signo de 8 bits |\n",
    "|          |UInt16 | Entero sin signo de 16 bits |\n",
    "|          |UInt32| Entero sin signo de 32 bits |\n",
    "|          |UInt8 | Entero con signo de 8 bits |\n",
    "|          |Float32 | Punto flotante de 32 bits |\n",
    "|          |Float64 | Punto flotante de 64 bits |\n",
    "\n",
    "| GRUPO  | TIPO | <center>DETALLES<center> |\n",
    "|:------------- |:---------------:| -------------:|\n",
    "| Anidado         | Struct       | una matriz de estructura se representa como $vec<series>$, es útil para empaquetar valores múltiples/heterogéneos en una sola columna|\n",
    "|   | List | Una matriz de lista contiene una matriz secuandaria que tiene valores de lista y una matriz de compensación|\n",
    "|Temporal | Date |Representación de fecha, representada internamente como días desde la época de UNIX codificada por un entero con signo de 32 bits|\n",
    "|  | Datetime |Representación de fecha y hora, representada internamente como microsegundos desde la época de UNIX codificados por un entero con signo de 64 bits|\n",
    "| | Duration| Un tipo timedelta, representado internamente como microsegundos. Se crea al restar Date/Datetime|\n",
    "| |Time | Representación del tiempo, representado internamente como nanosegundos desde la medianoche|\n",
    "|Otro | Boolean| Tipo booleano efectivamente empaquetado en bits|\n",
    "|    |  Utf8 | Cadena de datos (esto es en realidad Arrow LargeUtf8internamente)|\n",
    "| | Binary | Almacenar datos como bytes|\n",
    "| |Object|Un tipo de datos admitido limitado que puede ser cualquier valor|\n",
    "| |Categorical | Una codificación categórica de un conjunto de cadenas| \n",
    "    \n",
    "\n",
    "## <p style=\"color:Darkblue;\">ESTRUCTURA DE DATOS</p> \n",
    "    \n",
    "### <p style=\"color:Darkgreen;\">SERIES</p>\n",
    " Una serie es una estructura de datos unidimensional. Puede tener cualquier estructura de datos como integer, float y string. Es útil cuando se desea realizar el cálculo o devolver una matriz unidimensional. Una serie, por definición, no puede tener varias columnas.Veremos como crear un series objeto con nombre simple."
   ]
  },
  {
   "cell_type": "code",
   "execution_count": 1,
   "id": "e8ba463e",
   "metadata": {},
   "outputs": [
    {
     "name": "stdout",
     "output_type": "stream",
     "text": [
      "Requirement already satisfied: polars in c:\\users\\anali\\anaconda3\\lib\\site-packages (0.17.13)\n",
      "shape: (5,)\n",
      "Series: 'a' [i64]\n",
      "[\n",
      "\t5\n",
      "\t6\n",
      "\t7\n",
      "\t8\n",
      "\t9\n",
      "]\n"
     ]
    }
   ],
   "source": [
    "!pip install -U polars\n",
    "import polars as pl \n",
    "\n",
    "b = pl.Series(\"a\", [5,6,7,8,9])\n",
    "print(b)"
   ]
  },
  {
   "cell_type": "markdown",
   "id": "42528354",
   "metadata": {},
   "source": [
    "### <p style=\"color:Darkgreen;\">MARCO DE DATOS</p>\n",
    "\n",
    "Un marco de datos es una matriz bidimensional, con ejes etiquetados (filas y columnas), es una forma estándar de almacenar datos, es un dato tabular con filas para almacenar la información y columnas para nombrar la información. "
   ]
  },
  {
   "cell_type": "code",
   "execution_count": 2,
   "id": "a3c157bf",
   "metadata": {},
   "outputs": [
    {
     "name": "stdout",
     "output_type": "stream",
     "text": [
      "shape: (5, 3)\n",
      "┌─────────┬─────────┬───────┐\n",
      "│ integer ┆ name    ┆ float │\n",
      "│ ---     ┆ ---     ┆ ---   │\n",
      "│ i64     ┆ str     ┆ f64   │\n",
      "╞═════════╪═════════╪═══════╡\n",
      "│ 1       ┆ marcos  ┆ 58.5  │\n",
      "│ 2       ┆ jorge   ┆ 59.0  │\n",
      "│ 3       ┆ maria   ┆ 65.7  │\n",
      "│ 4       ┆ marcela ┆ 54.3  │\n",
      "│ 5       ┆ juan    ┆ 67.5  │\n",
      "└─────────┴─────────┴───────┘\n"
     ]
    }
   ],
   "source": [
    "df = pl.DataFrame(\n",
    "    {\n",
    "        \"integer\": [1, 2, 3, 4, 5],\n",
    "        \"name\": [\"marcos\",\"jorge\",\"maria\",\"marcela\",\"juan\"         \n",
    "        ],\n",
    "        \"float\": [58.5, 59.0, 65.7, 54.3, 67.5],\n",
    "    }\n",
    ")\n",
    "\n",
    "print(df)"
   ]
  },
  {
   "cell_type": "markdown",
   "id": "54aef29b",
   "metadata": {},
   "source": [
    "**HEAD**\n",
    "devuelve los primeros elementos de la estructura . Por defecto, se trata de los 5 primeros elementos, pero podemos especificar el número que deseamos como argumento de la función. Por ejemplo df.head(15)."
   ]
  },
  {
   "cell_type": "code",
   "execution_count": 3,
   "id": "a35d032b",
   "metadata": {},
   "outputs": [
    {
     "name": "stdout",
     "output_type": "stream",
     "text": [
      "shape: (4, 3)\n",
      "┌─────────┬─────────┬───────┐\n",
      "│ integer ┆ name    ┆ float │\n",
      "│ ---     ┆ ---     ┆ ---   │\n",
      "│ i64     ┆ str     ┆ f64   │\n",
      "╞═════════╪═════════╪═══════╡\n",
      "│ 1       ┆ marcos  ┆ 58.5  │\n",
      "│ 2       ┆ jorge   ┆ 59.0  │\n",
      "│ 3       ┆ maria   ┆ 65.7  │\n",
      "│ 4       ┆ marcela ┆ 54.3  │\n",
      "└─────────┴─────────┴───────┘\n"
     ]
    }
   ],
   "source": [
    "print(df.head(4))"
   ]
  },
  {
   "cell_type": "code",
   "execution_count": null,
   "id": "1f5ff6c1",
   "metadata": {},
   "outputs": [],
   "source": []
  },
  {
   "cell_type": "markdown",
   "id": "ecb6f039",
   "metadata": {},
   "source": [
    "**TAIL**:\n",
    "muestran los últimos elementos de la estructura. Si no indicamos otra cosa como argumento, serán los 5 últimos elementos los que se muestren.Es útil para verificar datos rápidamente, por ejemplo, después de ordenar o agregar filas."
   ]
  },
  {
   "cell_type": "code",
   "execution_count": 4,
   "id": "1b7450c4",
   "metadata": {},
   "outputs": [
    {
     "name": "stdout",
     "output_type": "stream",
     "text": [
      "shape: (2, 3)\n",
      "┌─────────┬─────────┬───────┐\n",
      "│ integer ┆ name    ┆ float │\n",
      "│ ---     ┆ ---     ┆ ---   │\n",
      "│ i64     ┆ str     ┆ f64   │\n",
      "╞═════════╪═════════╪═══════╡\n",
      "│ 4       ┆ marcela ┆ 54.3  │\n",
      "│ 5       ┆ juan    ┆ 67.5  │\n",
      "└─────────┴─────────┴───────┘\n"
     ]
    }
   ],
   "source": [
    "print(df.tail(2))"
   ]
  },
  {
   "cell_type": "markdown",
   "id": "e2b79da8",
   "metadata": {},
   "source": [
    "**SAMPLE**:\n",
    "La función sample() devuelve de una lista de elementos un determinado número de elementos diferentes elegidos al azar."
   ]
  },
  {
   "cell_type": "code",
   "execution_count": 7,
   "id": "1910bfc3",
   "metadata": {},
   "outputs": [
    {
     "name": "stdout",
     "output_type": "stream",
     "text": [
      "shape: (3, 3)\n",
      "┌─────────┬────────┬───────┐\n",
      "│ integer ┆ name   ┆ float │\n",
      "│ ---     ┆ ---    ┆ ---   │\n",
      "│ i64     ┆ str    ┆ f64   │\n",
      "╞═════════╪════════╪═══════╡\n",
      "│ 1       ┆ marcos ┆ 58.5  │\n",
      "│ 2       ┆ jorge  ┆ 59.0  │\n",
      "│ 5       ┆ juan   ┆ 67.5  │\n",
      "└─────────┴────────┴───────┘\n"
     ]
    }
   ],
   "source": [
    "print(df.sample(3))"
   ]
  },
  {
   "cell_type": "markdown",
   "id": "9f28c4fd",
   "metadata": {},
   "source": [
    "**DESCRIBE**: devuelve información estadística de los datos del dataframe o de la serie (de hecho, este método devuelve un dataframe). Esta información incluye el número de muestras, el valor medio, la desviación estándar, el valor mínimo, máximo, la mediana y los valores correspondientes a los percentiles 25% y 75%."
   ]
  },
  {
   "cell_type": "code",
   "execution_count": 8,
   "id": "820d1467",
   "metadata": {},
   "outputs": [
    {
     "name": "stdout",
     "output_type": "stream",
     "text": [
      "shape: (9, 4)\n",
      "┌────────────┬──────────┬───────┬──────────┐\n",
      "│ describe   ┆ integer  ┆ name  ┆ float    │\n",
      "│ ---        ┆ ---      ┆ ---   ┆ ---      │\n",
      "│ str        ┆ f64      ┆ str   ┆ f64      │\n",
      "╞════════════╪══════════╪═══════╪══════════╡\n",
      "│ count      ┆ 5.0      ┆ 5     ┆ 5.0      │\n",
      "│ null_count ┆ 0.0      ┆ 0     ┆ 0.0      │\n",
      "│ mean       ┆ 3.0      ┆ null  ┆ 61.0     │\n",
      "│ std        ┆ 1.581139 ┆ null  ┆ 5.465345 │\n",
      "│ min        ┆ 1.0      ┆ jorge ┆ 54.3     │\n",
      "│ max        ┆ 5.0      ┆ maria ┆ 67.5     │\n",
      "│ median     ┆ 3.0      ┆ null  ┆ 59.0     │\n",
      "│ 25%        ┆ 2.0      ┆ null  ┆ 58.5     │\n",
      "│ 75%        ┆ 4.0      ┆ null  ┆ 65.7     │\n",
      "└────────────┴──────────┴───────┴──────────┘\n"
     ]
    }
   ],
   "source": [
    "print(df.describe())"
   ]
  },
  {
   "cell_type": "markdown",
   "id": "447b7aa7",
   "metadata": {},
   "source": [
    "### <p style=\"color:Darkgreen;\">CONTEXTOS</p>\n",
    "\n",
    "Polars desarrollo su propio DSL, para la transformación de datos, el lenguajes no es complejo y permite consultas complejas que siguen siendo legibles por humanos, los componentes centrales del lenguaje son contextos y expresiones.\n",
    "\n",
    "Un contexto se refiere al contexto en el que se debe evaluar una expresión, los 3 contextos principales son:\n",
    "- Selección (df.select([..], df.with_columns([..])\n",
    "\n",
    "- Filtración (df.filter())\n",
    "- Groupy/ Agregación :(df.groupby(..).agg([..]))\n"
   ]
  },
  {
   "cell_type": "code",
   "execution_count": 11,
   "id": "6550bb85",
   "metadata": {},
   "outputs": [
    {
     "name": "stdout",
     "output_type": "stream",
     "text": [
      "shape: (5, 4)\n",
      "┌─────────┬───────┬──────────┬────────┐\n",
      "│ numeros ┆ names ┆ random   ┆ groups │\n",
      "│ ---     ┆ ---   ┆ ---      ┆ ---    │\n",
      "│ i64     ┆ str   ┆ f64      ┆ str    │\n",
      "╞═════════╪═══════╪══════════╪════════╡\n",
      "│ 1       ┆ all   ┆ 0.730383 ┆ A      │\n",
      "│ null    ┆ fim   ┆ 0.524363 ┆ B      │\n",
      "│ 3       ┆ suff  ┆ 0.666032 ┆ B      │\n",
      "│ 4       ┆ hilli ┆ 0.788398 ┆ C      │\n",
      "│ 5       ┆ null  ┆ 0.532552 ┆ C      │\n",
      "└─────────┴───────┴──────────┴────────┘\n"
     ]
    }
   ],
   "source": [
    "import numpy as np\n",
    "df = pl.DataFrame(\n",
    "    {\n",
    "        \"numeros\": [1, None, 3, 4, 5],\n",
    "        \"names\": [\"all\", \"fim\", \"suff\", \"hilli\", None],\n",
    "        \"random\": np.random.rand(5),\n",
    "        \"groups\": [\"A\", \"B\", \"B\", \"C\", \"C\"],\n",
    "    }\n",
    ")\n",
    "print(df)"
   ]
  },
  {
   "cell_type": "markdown",
   "id": "18e7c102",
   "metadata": {},
   "source": [
    "**SELECT**: la sellección aplica expresiones sobre columnas, las expresiones en este contexto producen series, una sellección puede producir nuevas columnas que son agregaciones, combinación de expresiones o literales, también existe with_columns, la cual conserva las columnas originales a diferencia de select que elimina las columnas originales."
   ]
  },
  {
   "cell_type": "code",
   "execution_count": 12,
   "id": "dd116107",
   "metadata": {},
   "outputs": [
    {
     "name": "stdout",
     "output_type": "stream",
     "text": [
      "shape: (5, 4)\n",
      "┌─────────┬───────┬───────────────┬────────┐\n",
      "│ numeros ┆ names ┆ primer nombre ┆ 12xnrs │\n",
      "│ ---     ┆ ---   ┆ ---           ┆ ---    │\n",
      "│ f64     ┆ str   ┆ str           ┆ i64    │\n",
      "╞═════════╪═══════╪═══════════════╪════════╡\n",
      "│ 3.25    ┆ null  ┆ all           ┆ 156    │\n",
      "│ 3.25    ┆ all   ┆ all           ┆ 156    │\n",
      "│ 3.25    ┆ fim   ┆ all           ┆ 156    │\n",
      "│ 3.25    ┆ hilli ┆ all           ┆ 156    │\n",
      "│ 3.25    ┆ suff  ┆ all           ┆ 156    │\n",
      "└─────────┴───────┴───────────────┴────────┘\n"
     ]
    }
   ],
   "source": [
    "a = df.select(\n",
    "    [\n",
    "        pl.mean(\"numeros\"),\n",
    "        pl.col(\"names\").sort(),\n",
    "        pl.col(\"names\").first().alias(\"primer nombre\"),\n",
    "        (pl.sum(\"numeros\") * 12).alias(\"12xnrs\"),\n",
    "    ]\n",
    ")\n",
    "print(a)"
   ]
  },
  {
   "cell_type": "code",
   "execution_count": 13,
   "id": "d991526e",
   "metadata": {},
   "outputs": [
    {
     "name": "stdout",
     "output_type": "stream",
     "text": [
      "shape: (5, 6)\n",
      "┌─────────┬───────┬──────────┬────────┬──────────────┬────────┐\n",
      "│ numeros ┆ names ┆ random   ┆ groups ┆ numeros_mean ┆ contar │\n",
      "│ ---     ┆ ---   ┆ ---      ┆ ---    ┆ ---          ┆ ---    │\n",
      "│ i64     ┆ str   ┆ f64      ┆ str    ┆ f64          ┆ u32    │\n",
      "╞═════════╪═══════╪══════════╪════════╪══════════════╪════════╡\n",
      "│ 1       ┆ all   ┆ 0.730383 ┆ A      ┆ 3.25         ┆ 5      │\n",
      "│ null    ┆ fim   ┆ 0.524363 ┆ B      ┆ 3.25         ┆ 5      │\n",
      "│ 3       ┆ suff  ┆ 0.666032 ┆ B      ┆ 3.25         ┆ 5      │\n",
      "│ 4       ┆ hilli ┆ 0.788398 ┆ C      ┆ 3.25         ┆ 5      │\n",
      "│ 5       ┆ null  ┆ 0.532552 ┆ C      ┆ 3.25         ┆ 5      │\n",
      "└─────────┴───────┴──────────┴────────┴──────────────┴────────┘\n"
     ]
    }
   ],
   "source": [
    "df = df.with_columns(\n",
    "    [\n",
    "        pl.mean(\"numeros\").alias(\"numeros_mean\"),\n",
    "        pl.col(\"names\").count().alias(\"contar\"),\n",
    "    ]\n",
    ")\n",
    "print(df)"
   ]
  },
  {
   "cell_type": "markdown",
   "id": "92859517",
   "metadata": {},
   "source": [
    "**FILTER** "
   ]
  },
  {
   "cell_type": "code",
   "execution_count": 14,
   "id": "948c5af6",
   "metadata": {},
   "outputs": [
    {
     "name": "stdout",
     "output_type": "stream",
     "text": [
      "shape: (2, 6)\n",
      "┌─────────┬───────┬──────────┬────────┬──────────────┬────────┐\n",
      "│ numeros ┆ names ┆ random   ┆ groups ┆ numeros_mean ┆ contar │\n",
      "│ ---     ┆ ---   ┆ ---      ┆ ---    ┆ ---          ┆ ---    │\n",
      "│ i64     ┆ str   ┆ f64      ┆ str    ┆ f64          ┆ u32    │\n",
      "╞═════════╪═══════╪══════════╪════════╪══════════════╪════════╡\n",
      "│ 1       ┆ all   ┆ 0.730383 ┆ A      ┆ 3.25         ┆ 5      │\n",
      "│ 3       ┆ suff  ┆ 0.666032 ┆ B      ┆ 3.25         ┆ 5      │\n",
      "└─────────┴───────┴──────────┴────────┴──────────────┴────────┘\n"
     ]
    }
   ],
   "source": [
    "fil = df.filter(pl.col(\"numeros\") < 4)\n",
    "print(fil)"
   ]
  },
  {
   "cell_type": "markdown",
   "id": "b5a2d8d4",
   "metadata": {},
   "source": [
    "**GROUPBY/AGREGACIÓN**"
   ]
  },
  {
   "cell_type": "code",
   "execution_count": 15,
   "id": "637d82ac",
   "metadata": {},
   "outputs": [
    {
     "name": "stdout",
     "output_type": "stream",
     "text": [
      "shape: (3, 5)\n",
      "┌────────┬─────────┬────────┬────────────┬─────────────────┐\n",
      "│ groups ┆ numeros ┆ contar ┆ random_sum ┆ alreves         │\n",
      "│ ---    ┆ ---     ┆ ---    ┆ ---        ┆ ---             │\n",
      "│ str    ┆ f64     ┆ u32    ┆ f64        ┆ list[str]       │\n",
      "╞════════╪═════════╪════════╪════════════╪═════════════════╡\n",
      "│ B      ┆ 3.0     ┆ 2      ┆ 1.190395   ┆ [\"suff\", \"fim\"] │\n",
      "│ A      ┆ 1.0     ┆ 1      ┆ 0.730383   ┆ [\"all\"]         │\n",
      "│ C      ┆ 4.5     ┆ 2      ┆ 0.788398   ┆ [null, \"hilli\"] │\n",
      "└────────┴─────────┴────────┴────────────┴─────────────────┘\n"
     ]
    }
   ],
   "source": [
    "group = df.groupby(\"groups\").agg(\n",
    "    [\n",
    "        pl.mean(\"numeros\"), \n",
    "        pl.col(\"random\").count().alias(\"contar\"),  \n",
    "        pl.col(\"random\").filter(pl.col(\"names\").is_not_null()).sum().suffix(\"_sum\"),\n",
    "        pl.col(\"names\").reverse().alias((\"alreves\")),\n",
    "    ]\n",
    ")\n",
    "print(group)"
   ]
  },
  {
   "cell_type": "markdown",
   "id": "61a1714b",
   "metadata": {},
   "source": [
    "### <p style=\"color:Darkgreen;\">EXPRESIONES</p>\n",
    "es fundamental este concepto en polars ya que hace que el rendimiento sea muy rápido,las expresiones son el núcleo de muchas operaciones, podemos tomar una muestra de filas de una columna,convertir una columna de cadenas a mayúsculas, multiplicar valores de una columna,etc.Las expresiones tambien se utilian dentro de otras operaciones, podemos calcular el tamaño de los grupos dentro de una groupby operación, tomar la media de un grupo en una groupby operación,etc.\n",
    "\n",
    "Las Expressions son funciones/métodos utilizados a la hora de realizar operaciones con datos en Polars (selección, creación y manipulación de columnas, aplicación de filtros, entre otros). Tienen como entrada una serie y como salida otra serie, y son, por definición, un mapeo entre séries, lo que nos permite encadenarlas. Además, Polars es capaz de automatizar la ejecución de las expressions en paralelo siempre que sea posible (cuando se trabaja con múltiples columnas, por ejemplo) lo que hace de las Expressions algo muy potente.\n",
    "\n",
    "### <p style=\"color:Darkgreen;\">LAZY/EAGER API</p>"
   ]
  },
  {
   "cell_type": "markdown",
   "id": "f7bd25a8",
   "metadata": {},
   "source": [
    "# <p style=\"color:Darkred;\">EXPRESIONES</p> \n"
   ]
  },
  {
   "cell_type": "code",
   "execution_count": null,
   "id": "c875caef",
   "metadata": {},
   "outputs": [],
   "source": [
    "#EXPRESIONES:\n",
    "#son funciones/métodos utilizados a la hora de realizar operaciones con datos en Polars\n",
    "#(e.g., selección, creación y manipulación de columnas, aplicación de filtros, entre otros).\n",
    "df = pl.DataFrame(\n",
    "    {\n",
    "        \"nrs\": [1, 2, 3, None, 5],\n",
    "        \"names\": [\"foo\", \"ham\", \"spam\", \"egg\", None],\n",
    "        \"random\": np.random.rand(5),\n",
    "        \"groups\": [\"A\", \"A\", \"B\", \"C\", \"B\"],\n",
    "    }\n",
    ")\n",
    "print(df)\n",
    "\n",
    "#se realizan operaciones lógicas\n",
    "df_logical = df.select(\n",
    "    [\n",
    "        (pl.col(\"nrs\") > 1).alias(\"nrs > 1\"),\n",
    "        (pl.col(\"random\") <= 0.5).alias(\"random < .5\"),\n",
    "        (pl.col(\"nrs\") != 1).alias(\"nrs != 1\"),\n",
    "        (pl.col(\"nrs\") == 1).alias(\"nrs == 1\"),\n",
    "        ((pl.col(\"random\") <= 0.5) & (pl.col(\"nrs\") > 1)).alias(\"and_expr\"),  # and\n",
    "        ((pl.col(\"random\") <= 0.5) | (pl.col(\"nrs\") > 1)).alias(\"or_expr\"),  # or\n",
    "    ]\n",
    ")\n",
    "print(df_logical)\n",
    "\n"
   ]
  },
  {
   "cell_type": "code",
   "execution_count": null,
   "id": "fd99df74",
   "metadata": {},
   "outputs": [],
   "source": [
    "#FUNCIONES\n",
    "#Las expresiones tienen una gran cantidad de funciones incorporadas. \n",
    "#Estos le permiten crear consultas complejas sin necesidad de funciones definidas por el usuario .\n",
    "\n",
    "#-Selección de columnas\n",
    "#todas las coumnas\n",
    "df_all = df.select([pl.col(\"*\")])\n",
    "print(df_all)\n",
    "\n",
    "#de todas exepto de una\n",
    "df_exclude = df.select([pl.exclude(\"groups\")])\n",
    "print(df_exclude)\n",
    "\n",
    "#Condicionales\n",
    "#Polarsadmite condiciones similares a if en expresión con la sintaxis when, then, otherwise\n",
    "df_conditional = df.select(\n",
    "    [\n",
    "        pl.col(\"nrs\"),\n",
    "        pl.when(pl.col(\"nrs\") > 2)\n",
    "        .then(pl.lit(True))\n",
    "        .otherwise(pl.lit(False))\n",
    "        .alias(\"conditional\"),\n",
    "    ]\n",
    ")\n",
    "print(df_conditional)\n",
    "\n",
    "\n"
   ]
  },
  {
   "cell_type": "code",
   "execution_count": null,
   "id": "4ce36d1f",
   "metadata": {},
   "outputs": [],
   "source": [
    "#DATOS PERDIDOS\n",
    "# Los datos que faltan se representan en Flecha y Polars con un nullvalor. \n",
    "#Este nullvalor faltante se aplica a todos los tipos de datos, incluidos los valores numéricos.\n",
    "df = pl.DataFrame(\n",
    "    {\n",
    "        \"value\": [1, None],\n",
    "    },\n",
    ")\n",
    "print(df)\n",
    "null_count_df = df.null_count()\n",
    "print(null_count_df)\n",
    "\n",
    "#Relleno de datos faltantes\n",
    "#os datos que faltan en un Seriesse pueden completar con el método fill_null\n",
    "df = pl.DataFrame(\n",
    "    {\n",
    "        \"col1\": [1, 2, 3],\n",
    "        \"col2\": [1, None, 3],\n",
    "    },\n",
    ")\n",
    "print(df)\n",
    "#Rellenar con el valor literal especificado\n",
    "#Podemos completar los datos que faltan con un valor literal especificado con pl.lit:\n",
    "fill_literal_df = (\n",
    "    df.with_columns(\n",
    "        pl.col(\"col2\").fill_null(\n",
    "            pl.lit(2),\n",
    "        ),\n",
    "    ),\n",
    ")\n",
    "print(fill_literal_df)\n",
    "\n",
    "#Rellenar con una expresión\n",
    "#Para mayor flexibilidad, podemos completar los datos que faltan con una expresión. \n",
    "#Por ejemplo, para llenar nulos con el valor de la mediana de esa columna\n",
    "\n",
    "fill_median_df = df.with_columns(\n",
    "    pl.col(\"col2\").fill_null(pl.median(\"col2\")),\n",
    ")\n",
    "print(fill_median_df)\n",
    "\n",
    "#Rellenar con interpolación\n",
    "#Además, podemos rellenar con interpolación (sin usar la función fill_null)\n",
    "fill_interpolation_df = df.with_columns(\n",
    "    pl.col(\"col2\").interpolate(),\n",
    ")\n",
    "print(fill_interpolation_df)\n",
    "\n"
   ]
  },
  {
   "cell_type": "code",
   "execution_count": null,
   "id": "3d50473b",
   "metadata": {},
   "outputs": [],
   "source": [
    "#PLIEGUES\n",
    "#Polarsproporciona expresiones/métodos para agregaciones horizontales como sum, min, mean, etc. \n",
    "#estableciendo el argumento axis=1. Sin embargo, cuando necesite una agregación más compleja, \n",
    "#Polarses posible que los métodos predeterminados no sean suficientes. Ahí es cuando \"fold\" ses útil.\n",
    "#La foldexpresión opera en columnas para máxima velocidad.\n",
    "\n",
    "#suma manual\n",
    "df = pl.DataFrame(\n",
    "    {\n",
    "        \"a\": [1, 2, 3],\n",
    "        \"b\": [10, 20, 30],\n",
    "    }\n",
    ")\n",
    "\n",
    "out = df.select(\n",
    "    pl.fold(acc=pl.lit(0), function=lambda acc, x: acc + x, exprs=pl.all()).alias(\n",
    "        \"sum\"\n",
    "    ),\n",
    ")\n",
    "print(out)\n",
    "\n",
    "#Condicional\n",
    "#En el caso de que desee aplicar una condición/predicado en todas las columnas de una DataFrameoperación fold, \n",
    "#puede ser una forma muy concisa de expresarlo.\n",
    "\n",
    "df = pl.DataFrame(\n",
    "    {\n",
    "        \"a\": [1, 2, 3],\n",
    "        \"b\": [0, 1, 2],\n",
    "    }\n",
    ")\n",
    "\n",
    "out = df.filter(\n",
    "    pl.fold(\n",
    "        acc=pl.lit(True),\n",
    "        function=lambda acc, x: acc & x,\n",
    "        exprs=pl.col(\"*\") > 1,\n",
    "    )\n",
    ")\n",
    "print(out)"
   ]
  },
  {
   "cell_type": "code",
   "execution_count": null,
   "id": "f04f33e4",
   "metadata": {},
   "outputs": [],
   "source": [
    "#cálculos sabios de filas\n",
    "#Las expresiones polares funcionan sobre columnas que tienen la garantía de que están formadas por datos homogéneos. \n",
    "#Las columnas tienen esta garantía, las filas DataFrameno tanto. Por suerte tenemos un tipo de datos que tiene la garantía\n",
    "#de que las filas sean homogéneas: pl.Listtipo de datos.\n",
    "\n",
    "grades = pl.DataFrame(\n",
    "    {\n",
    "        \"student\": [\"bas\", \"laura\", \"tim\", \"jenny\"],\n",
    "        \"arithmetic\": [10, 5, 6, 8],\n",
    "        \"biology\": [4, 6, 2, 7],\n",
    "        \"geography\": [8, 4, 9, 7],\n",
    "    }\n",
    ")\n",
    "print(grades)\n",
    "\n",
    "#ahora calculamos en una fila Si queremos calcular el valor rankde todas las columnas excepto \"student\"\n",
    "out = grades.select([pl.concat_list(pl.all().exclude(\"student\")).alias(\"all_grades\")])\n",
    "print(out)\n",
    "\n",
    "#Numpy\n",
    "# En polars as expresiones admiten NumPy, esto significa que si no proporciona una función Polars, \n",
    "#podemos usar NumPyy aún tenemos una operación columnar rápida a través de la NumPyAPI\n",
    "import polars as pl\n",
    "import numpy as np\n",
    "\n",
    "df = pl.DataFrame({\"a\": [1, 2, 3], \"b\": [4, 5, 6]})\n",
    "\n",
    "out = df.select(\n",
    "    [\n",
    "        np.log(pl.all()).suffix(\"_log\"),\n",
    "    ]\n",
    ")\n",
    "print(out)\n",
    "\n"
   ]
  },
  {
   "cell_type": "markdown",
   "id": "094be523",
   "metadata": {},
   "source": [
    "### API PEREZOSA\n",
    "se refiere a un enfoque que permite realizar operaciones de transformación y manipulación de datos de forma eficiente y sin cargar todos los datos en memoria de inmediato.Permite una manipulación eficiente de grandes volúmenes de datos, ya que solo se realizan las operaciones necesarias y no se cargan todos los datos en memoria al mismo tiempo.\n",
    "\n",
    "### ESQUEMA\n",
    "El esquema de un Polars DataFrameo establece los nombres de las columnas y sus tipos de datos. Puede ver el esquema con el .schema método en una DataFrame"
   ]
  },
  {
   "cell_type": "code",
   "execution_count": null,
   "id": "9579b882",
   "metadata": {},
   "outputs": [],
   "source": [
    "import polars as pl\n",
    "q3 = pl.DataFrame({\"foo\": [\"a\", \"b\", \"c\"], \"bar\": [0, 1, 2]}).lazy()\n",
    "print(q3.schema)\n"
   ]
  },
  {
   "cell_type": "markdown",
   "id": "2a19c4ed",
   "metadata": {},
   "source": [
    "### Comprobación de tipos de datos en la API perezosa\n",
    "Una ventaja de la API perezosa es que Polars verificará el esquema antes de que se procesen los datos."
   ]
  },
  {
   "cell_type": "code",
   "execution_count": null,
   "id": "2c8701e5",
   "metadata": {},
   "outputs": [],
   "source": [
    "pl.DataFrame({\"foo\": [\"a\", \"b\", \"c\"], \"bar\": [0, 1, 2]}).lazy().with_columns(\n",
    "    pl.col(\"bar\").round(0)\n",
    ")"
   ]
  },
  {
   "cell_type": "markdown",
   "id": "7416a75b",
   "metadata": {},
   "source": [
    "# <p style=\"color:Darkred;\">COMPARANDO POLARS CON PANDAS</p> \n",
    "\n",
    "![polars vs pandas](https://studioterabyte.nl/_ipx/_/images/blog/pandas-polars/pandas-polars.jpg)\n",
    "\n",
    "**Rendimiento** : Polars está diseñado para un alto rendimiento, aprovechando los subprocesos múltiples de Rust, las instrucciones SIMD y las optimizaciones de consultas. Por el contrario, Pandas es principalmente de un solo subproceso, lo que puede no ser tan eficiente para grandes conjuntos de datos u operaciones complejas en comparación con Polars. Combinando la capacidad de hacer streaming, así como la ejecución perezosa, Polars tiene un fuerte reclamo de ser el mejor paquete para conjuntos de datos de más de GB.\n",
    "\n",
    "**Modelo de memoria**: Polars usa Apache Arrow Columnar Format como su modelo de memoria, optimizado para el procesamiento de datos, mientras que Pandas, por otro lado, usa un formato de memoria basado en filas. Esto hace que Pandas sea menos eficiente para ciertas operaciones (que son bastante comunes) como cálculos y agregaciones en columnas.\n",
    "\n",
    "**Tipos de datos** : Polars tiene un conjunto más extenso de tipos de datos en comparación con Pandas, incluidos tipos de datos avanzados como Date64, DateTime e Interval, así como soporte para tipos de datos personalizados, lo que brinda una mayor flexibilidad para manejar diversos tipos de datos.\n",
    "\n",
    "**Sintaxis y API** : Polars tiene una API y sintaxis similares a las de Pandas, facilitando a los usuarios que usaban Pandas la transición a Polars.\n",
    "\n",
    "Según la prueba comparativa realizada por H2O.ai, Polars estaba muy por delante de sus competidores. Por ejemplo, Polars demostró un rendimiento superior en tareas de agregación al completar la agregación de un conjunto de datos de 50 GB en tan solo 143 segundos. En comparación, Pandas no pudo completar la tarea por falta de memoria.\n",
    "\n",
    "![rankup](https://nairal.net/wp-content/uploads/2023/01/resultado-de-la-prueba-comparativa-de-PANDAS-VS-POLARS-por-H2Oai.webp)\n",
    "\n",
    "Además de su velocidad, Polars es muy fácil de usar y cuenta con una base de código bien escrita. Para quienes estén familiarizados con bibliotecas como dplyr en R, utilizar Polars es muy sencillo gracias a su sintaxis similar. En general, Polars ofrece una solución potente y fácil de usar para tareas de agregación de datos."
   ]
  },
  {
   "cell_type": "code",
   "execution_count": null,
   "id": "f89435ea",
   "metadata": {},
   "outputs": [],
   "source": []
  }
 ],
 "metadata": {
  "kernelspec": {
   "display_name": "Python 3 (ipykernel)",
   "language": "python",
   "name": "python3"
  },
  "language_info": {
   "codemirror_mode": {
    "name": "ipython",
    "version": 3
   },
   "file_extension": ".py",
   "mimetype": "text/x-python",
   "name": "python",
   "nbconvert_exporter": "python",
   "pygments_lexer": "ipython3",
   "version": "3.9.13"
  }
 },
 "nbformat": 4,
 "nbformat_minor": 5
}
